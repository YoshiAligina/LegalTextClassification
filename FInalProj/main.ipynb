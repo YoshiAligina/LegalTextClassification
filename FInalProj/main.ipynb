{
 "cells": [
  {
   "cell_type": "code",
   "execution_count": 30,
   "id": "0293f450",
   "metadata": {},
   "outputs": [],
   "source": [
    "# --- Import Libraries ---\n",
    "import pandas as pd\n",
    "import re\n",
    "import nltk\n",
    "from nltk.corpus import stopwords\n",
    "from nltk.tokenize import word_tokenize\n",
    "from nltk.stem import WordNetLemmatizer\n",
    "from sklearn.feature_extraction.text import TfidfVectorizer\n",
    "from sklearn.cluster import KMeans\n",
    "from sklearn.metrics import silhouette_score, calinski_harabasz_score\n",
    "from sklearn.model_selection import train_test_split\n",
    "from sklearn.preprocessing import MaxAbsScaler\n",
    "from sklearn.pipeline import Pipeline\n",
    "from sklearn.linear_model import LogisticRegression\n",
    "from sklearn.metrics import classification_report, accuracy_score\n",
    "import os\n",
    "import joblib"
   ]
  },
  {
   "cell_type": "code",
   "execution_count": 31,
   "id": "ca83f5f3",
   "metadata": {},
   "outputs": [
    {
     "name": "stderr",
     "output_type": "stream",
     "text": [
      "[nltk_data] Downloading package punkt to\n",
      "[nltk_data]     C:\\Users\\yoshi\\AppData\\Roaming\\nltk_data...\n",
      "[nltk_data]   Package punkt is already up-to-date!\n",
      "[nltk_data] Downloading package stopwords to\n",
      "[nltk_data]     C:\\Users\\yoshi\\AppData\\Roaming\\nltk_data...\n",
      "[nltk_data]   Package stopwords is already up-to-date!\n",
      "[nltk_data] Downloading package wordnet to\n",
      "[nltk_data]     C:\\Users\\yoshi\\AppData\\Roaming\\nltk_data...\n",
      "[nltk_data]   Package wordnet is already up-to-date!\n"
     ]
    },
    {
     "name": "stdout",
     "output_type": "stream",
     "text": [
      "Dataset loaded:\n",
      "  case_id case_outcome                                         case_title  \\\n",
      "0   Case1        cited  Alpine Hardwood (Aust) Pty Ltd v Hardys Pty Lt...   \n",
      "1   Case2        cited  Black v Lipovac [1998] FCA 699 ; (1998) 217 AL...   \n",
      "2   Case3        cited  Colgate Palmolive Co v Cussons Pty Ltd (1993) ...   \n",
      "3   Case4        cited  Dais Studio Pty Ltd v Bullett Creative Pty Ltd...   \n",
      "4   Case5        cited  Dr Martens Australia Pty Ltd v Figgins Holding...   \n",
      "\n",
      "                                           case_text  \n",
      "0  Ordinarily that discretion will be exercised s...  \n",
      "1  The general principles governing the exercise ...  \n",
      "2  Ordinarily that discretion will be exercised s...  \n",
      "3  The general principles governing the exercise ...  \n",
      "4  The preceding general principles inform the ex...  \n",
      "Columns: Index(['case_id', 'case_outcome', 'case_title', 'case_text'], dtype='object')\n"
     ]
    }
   ],
   "source": [
    "nltk.download('punkt')\n",
    "nltk.download('stopwords')\n",
    "nltk.download('wordnet')\n",
    "\n",
    "# --- Load Dataset ---\n",
    "file_path = r\"C:\\Users\\yoshi\\OneDrive\\Desktop\\CSMaster\\CS439\\FInalProj\\legalData\\legal_text_classification.csv\"\n",
    "df = pd.read_csv(file_path)\n",
    "\n",
    "# Display dataset info\n",
    "print(\"Dataset loaded:\")\n",
    "print(df.head())\n",
    "print(\"Columns:\", df.columns)\n"
   ]
  },
  {
   "cell_type": "code",
   "execution_count": 32,
   "id": "a8090e1d",
   "metadata": {},
   "outputs": [
    {
     "name": "stdout",
     "output_type": "stream",
     "text": [
      "Preprocessed text:\n",
      "                                           case_text  \\\n",
      "0  Ordinarily that discretion will be exercised s...   \n",
      "1  The general principles governing the exercise ...   \n",
      "2  Ordinarily that discretion will be exercised s...   \n",
      "3  The general principles governing the exercise ...   \n",
      "4  The preceding general principles inform the ex...   \n",
      "\n",
      "                                        cleaned_text  \n",
      "0  ordinarily discretion exercised cost follow ev...  \n",
      "1  general principle governing exercise discretio...  \n",
      "2  ordinarily discretion exercised cost follow ev...  \n",
      "3  general principle governing exercise discretio...  \n",
      "4  preceding general principle inform exercise di...  \n"
     ]
    }
   ],
   "source": [
    "lemmatizer = WordNetLemmatizer()\n",
    "stop_words = set(stopwords.words('english'))\n",
    "\n",
    "def preprocess_text(text):\n",
    "    if isinstance(text, str):\n",
    "        text = text.lower()\n",
    "        text = re.sub(r'[^a-zA-Z\\s]', '', text)\n",
    "        tokens = word_tokenize(text)\n",
    "        tokens = [lemmatizer.lemmatize(word) for word in tokens if word not in stop_words]\n",
    "        return ' '.join(tokens)\n",
    "    return ''\n",
    "\n",
    "df['cleaned_text'] = df['case_text'].apply(preprocess_text)\n",
    "print(\"Preprocessed text:\")\n",
    "print(df[['case_text', 'cleaned_text']].head())\n"
   ]
  },
  {
   "cell_type": "code",
   "execution_count": 33,
   "id": "eea9b982",
   "metadata": {},
   "outputs": [
    {
     "name": "stdout",
     "output_type": "stream",
     "text": [
      "Assigned categories:\n",
      "                                        cleaned_text case_category\n",
      "0  ordinarily discretion exercised cost follow ev...         other\n",
      "1  general principle governing exercise discretio...         other\n",
      "2  ordinarily discretion exercised cost follow ev...         other\n",
      "3  general principle governing exercise discretio...         other\n",
      "4  preceding general principle inform exercise di...         other\n"
     ]
    }
   ],
   "source": [
    "keywords = {\n",
    "    'family': ['children', 'custody', 'divorce', 'marriage', 'adoption', 'parenting orders', 'child support', 'spousal maintenance', 'family violence', 'guardianship', 'prenuptial agreements'],\n",
    "    'property': ['property', 'ownership', 'land', 'real estate', 'lease', 'easements', 'mortgages', 'foreclosure', 'zoning', 'landlord', 'tenant', 'eviction'],\n",
    "    'criminal': ['theft', 'murder', 'assault', 'fraud', 'crime', 'sentencing', 'bail', 'parole', 'prosecution', 'homicide', 'robbery', 'drug offenses'],\n",
    "    'business': ['contract', 'agreement', 'corporation', 'partnership', 'mergers', 'franchises', 'intellectual property', 'trade practices'],\n",
    "    'financial_and_securities': ['securities', 'investments', 'insider trading', 'market manipulation', 'financial services'],\n",
    "    'administrative': ['judicial review', 'government decisions', 'statutory interpretation'],\n",
    "    'employment': ['workers comp']\n",
    "}\n",
    "\n",
    "def assign_category(text):\n",
    "    for category, words in keywords.items():\n",
    "        if any(word in text.lower() for word in words):\n",
    "            return category\n",
    "    return 'other'\n",
    "\n",
    "df['case_category'] = df['cleaned_text'].apply(assign_category)\n",
    "print(\"Assigned categories:\")\n",
    "print(df[['cleaned_text', 'case_category']].head())\n"
   ]
  },
  {
   "cell_type": "code",
   "execution_count": 34,
   "id": "5bb921d4",
   "metadata": {},
   "outputs": [
    {
     "name": "stdout",
     "output_type": "stream",
     "text": [
      "Cleaned text saved to legalData\\cleaned_legal_text.csv\n"
     ]
    }
   ],
   "source": [
    "output_dir = 'legalData'\n",
    "os.makedirs(output_dir, exist_ok=True)\n",
    "output_file = os.path.join(output_dir, 'cleaned_legal_text.csv')\n",
    "df[['case_text', 'cleaned_text']].to_csv(output_file, index=False)\n",
    "print(f\"Cleaned text saved to {output_file}\")"
   ]
  },
  {
   "cell_type": "code",
   "execution_count": 41,
   "id": "5193496a",
   "metadata": {},
   "outputs": [
    {
     "name": "stderr",
     "output_type": "stream",
     "text": [
      "c:\\Users\\yoshi\\anaconda3\\Lib\\site-packages\\sklearn\\cluster\\_kmeans.py:870: FutureWarning: The default value of `n_init` will change from 10 to 'auto' in 1.4. Set the value of `n_init` explicitly to suppress the warning\n",
      "  warnings.warn(\n"
     ]
    },
    {
     "name": "stdout",
     "output_type": "stream",
     "text": [
      "Clustered dataset:\n",
      "                                         cleaned_text  cluster case_category\n",
      "0   ordinarily discretion exercised cost follow ev...        1      property\n",
      "1   general principle governing exercise discretio...        2      criminal\n",
      "2   ordinarily discretion exercised cost follow ev...        1      property\n",
      "3   general principle governing exercise discretio...        2      criminal\n",
      "4   preceding general principle inform exercise di...        1      property\n",
      "5   accept making rolled offer inclusive cost inte...        2      criminal\n",
      "6   preceding general principle inform exercise di...        1      property\n",
      "7   question level unreasonableness necessary attr...        3      criminal\n",
      "8   recent decision high court australian broadcas...        3      criminal\n",
      "9   hexal australia pty ltd v roche therapeutic in...        2      criminal\n",
      "10  hexal australia pty ltd v roche therapeutic in...        1      property\n",
      "11  quia timet proceeding court regard degree prob...        3      criminal\n",
      "12  suggested proceeding far commonwealth revenue ...        3      criminal\n",
      "13  strictly speaking cheque even bank cheque form...        3      criminal\n",
      "14  none suggest deputy commissioner obligation ac...        3      criminal\n",
      "15  none suggest deputy commissioner obligation ac...        3      criminal\n",
      "16  true position applicant status creditor time a...        2      criminal\n",
      "17  assuming deputy commissioner ought presently r...        3      criminal\n",
      "18  satisfied finding third tribunal two appellant...        5      criminal\n",
      "19  plain order set aside matter remitted tribunal...        6      criminal\n"
     ]
    }
   ],
   "source": [
    "tfidf = TfidfVectorizer(max_features=5000)\n",
    "tfidf_matrix = tfidf.fit_transform(df['cleaned_text'])\n",
    "\n",
    "num_clusters = len(keywords)\n",
    "kmeans = KMeans(n_clusters=num_clusters, random_state=777)\n",
    "df['cluster'] = kmeans.fit_predict(tfidf_matrix)\n",
    "\n",
    "# Map clusters to categories\n",
    "cluster_to_category = {}\n",
    "for cluster in range(num_clusters):\n",
    "    cluster_docs = df[df['cluster'] == cluster]['cleaned_text']\n",
    "    cluster_keywords = ' '.join(cluster_docs).split()\n",
    "    category_counts = {category: sum(word in cluster_keywords for word in words) for category, words in keywords.items()}\n",
    "    cluster_to_category[cluster] = max(category_counts, key=category_counts.get) if category_counts else 'other'\n",
    "\n",
    "\n",
    "df['case_category'] = df['cluster'].map(cluster_to_category)\n",
    "print(\"Clustered dataset:\")\n",
    "print(df[['cleaned_text', 'cluster', 'case_category']].head(20))\n"
   ]
  },
  {
   "cell_type": "code",
   "execution_count": 42,
   "id": "c2f98bf7",
   "metadata": {},
   "outputs": [
    {
     "name": "stdout",
     "output_type": "stream",
     "text": [
      "Silhouette Score: 0.01\n",
      "Calinski-Harabasz Index: 192.60\n"
     ]
    }
   ],
   "source": [
    "silhouette_avg = silhouette_score(tfidf_matrix, df['cluster'])\n",
    "calinski_harabasz = calinski_harabasz_score(tfidf_matrix.toarray(), df['cluster'])\n",
    "print(f\"Silhouette Score: {silhouette_avg:.2f}\")\n",
    "print(f\"Calinski-Harabasz Index: {calinski_harabasz:.2f}\")"
   ]
  },
  {
   "cell_type": "code",
   "execution_count": 43,
   "id": "82050b5c",
   "metadata": {},
   "outputs": [
    {
     "name": "stdout",
     "output_type": "stream",
     "text": [
      "Cluster 0:\n",
      "                                          cleaned_text case_category\n",
      "682  difference created aural comparison stress pro...      property\n",
      "683  function trade mark give indication purchaser ...      property\n",
      "684  australian cooperative food v norco cooperativ...      property\n",
      "685  principle well established stated dixon mctier...      property\n",
      "687  view health plus trade mark deceptively simila...      property\n",
      "Cluster 1:\n",
      "                                         cleaned_text case_category\n",
      "0   ordinarily discretion exercised cost follow ev...      property\n",
      "2   ordinarily discretion exercised cost follow ev...      property\n",
      "4   preceding general principle inform exercise di...      property\n",
      "6   preceding general principle inform exercise di...      property\n",
      "10  hexal australia pty ltd v roche therapeutic in...      property\n",
      "Cluster 2:\n",
      "                                         cleaned_text case_category\n",
      "1   general principle governing exercise discretio...      criminal\n",
      "3   general principle governing exercise discretio...      criminal\n",
      "5   accept making rolled offer inclusive cost inte...      criminal\n",
      "9   hexal australia pty ltd v roche therapeutic in...      criminal\n",
      "16  true position applicant status creditor time a...      criminal\n",
      "Cluster 3:\n",
      "                                         cleaned_text case_category\n",
      "7   question level unreasonableness necessary attr...      criminal\n",
      "8   recent decision high court australian broadcas...      criminal\n",
      "11  quia timet proceeding court regard degree prob...      criminal\n",
      "12  suggested proceeding far commonwealth revenue ...      criminal\n",
      "13  strictly speaking cheque even bank cheque form...      criminal\n",
      "Cluster 4:\n",
      "                                         cleaned_text case_category\n",
      "35  mansfield j reached similar conclusion austral...      criminal\n",
      "36  numerous case held act extends company directo...      criminal\n",
      "37  numerous case held act extends company directo...      criminal\n",
      "38  numerous case held act extends company directo...      criminal\n",
      "40  since australian softwood forest pty ltd v att...      criminal\n",
      "Cluster 5:\n",
      "                                          cleaned_text case_category\n",
      "18   satisfied finding third tribunal two appellant...      criminal\n",
      "21   j minister immigration amp multicultural affai...      criminal\n",
      "23   j said waterford v commonwealth hca clr error ...      criminal\n",
      "97   court concludes since factual question involve...      criminal\n",
      "104  kioa also made clear applicant entitled natura...      criminal\n",
      "Cluster 6:\n",
      "                                          cleaned_text case_category\n",
      "19   plain order set aside matter remitted tribunal...      criminal\n",
      "20   plain order set aside matter remitted tribunal...      criminal\n",
      "113  allsop j applied principle navarrete v ministe...      criminal\n",
      "331  full court court considered proper constructio...      criminal\n",
      "348  appeal lie court pursuant act question law app...      criminal\n"
     ]
    }
   ],
   "source": [
    "for cluster in range(len(keywords)):\n",
    "    print(f\"Cluster {cluster}:\")\n",
    "    print(df[df['cluster'] == cluster][['cleaned_text', 'case_category']].head())"
   ]
  },
  {
   "cell_type": "code",
   "execution_count": 44,
   "id": "60a89d3d",
   "metadata": {},
   "outputs": [
    {
     "name": "stdout",
     "output_type": "stream",
     "text": [
      "Clustered dataset saved to legalData/clustered_legal_text.csv\n"
     ]
    }
   ],
   "source": [
    "output_file = 'legalData/clustered_legal_text.csv'\n",
    "df.to_csv(output_file, index=False)\n",
    "print(f\"Clustered dataset saved to {output_file}\")"
   ]
  },
  {
   "cell_type": "code",
   "execution_count": 45,
   "id": "7132c915",
   "metadata": {},
   "outputs": [
    {
     "name": "stdout",
     "output_type": "stream",
     "text": [
      "Model saved to legal_text_classification_model.pkl\n"
     ]
    }
   ],
   "source": [
    "model_file = 'legal_text_classification_model.pkl'\n",
    "joblib.dump(pipeline, model_file)\n",
    "print(f\"Model saved to {model_file}\")"
   ]
  }
 ],
 "metadata": {
  "kernelspec": {
   "display_name": "base",
   "language": "python",
   "name": "python3"
  },
  "language_info": {
   "codemirror_mode": {
    "name": "ipython",
    "version": 3
   },
   "file_extension": ".py",
   "mimetype": "text/x-python",
   "name": "python",
   "nbconvert_exporter": "python",
   "pygments_lexer": "ipython3",
   "version": "3.11.7"
  }
 },
 "nbformat": 4,
 "nbformat_minor": 5
}
